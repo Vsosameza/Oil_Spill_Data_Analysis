{
 "cells": [
  {
   "cell_type": "code",
   "execution_count": 1,
   "metadata": {},
   "outputs": [],
   "source": [
    "import pandas as pd \n",
    "import numpy as np\n",
    "import collections as col\n",
    "from pandas import Series ,DataFrame\n",
    "import datetime as datetime\n",
    "#from datetime import datetime\n",
    "from time import strptime\n",
    "import seaborn as sns \n",
    "import matplotlib.pyplot as plt\n",
    "\n",
    "oil_df = pd.read_csv(\"Desktop/oildataRAW.csv\", parse_dates=[3])\n",
    "oil_df.head()\n",
    "price_df = pd.read_csv(\"Desktop/price_per_barrel_01042010-01312017.csv\", parse_dates=[0])\n"
   ]
  },
  {
   "cell_type": "code",
   "execution_count": 2,
   "metadata": {},
   "outputs": [
    {
     "data": {
      "text/plain": [
       "pandas._libs.tslibs.timestamps.Timestamp"
      ]
     },
     "execution_count": 2,
     "metadata": {},
     "output_type": "execute_result"
    }
   ],
   "source": [
    "type(price_df.loc[2,'Day'])"
   ]
  },
  {
   "cell_type": "code",
   "execution_count": 3,
   "metadata": {},
   "outputs": [
    {
     "data": {
      "text/plain": [
       "(         Day  Cushing WTI Spot Price/Barrel\n",
       " 0 2017-01-31                          52.75\n",
       " 1 2017-01-30                          52.63\n",
       " 2 2017-01-27                          53.18\n",
       " 3 2017-01-26                          53.24\n",
       " 4 2017-01-25                          52.14,\n",
       "    Report Number  Supplemental Number  Accident Year  Accident Date/Time  \\\n",
       " 0       20100016                17305           2010 2010-01-01 07:15:00   \n",
       " 1       20100254                17331           2010 2010-01-04 08:30:00   \n",
       " 2       20100038                17747           2010 2010-01-05 10:30:00   \n",
       " 3       20100260                18574           2010 2010-01-06 19:30:00   \n",
       " 4       20100030                16276           2010 2010-01-07 13:00:00   \n",
       " \n",
       "    Operator ID                         Operator Name Pipeline/Facility Name  \\\n",
       " 0        32109                 ONEOK NGL PIPELINE LP      KINDER MORGAN JCT   \n",
       " 1        15786                PORTLAND PIPELINE CORP      24-INCH MAIN LINE   \n",
       " 2        20160           PETROLOGISTICS OLEFINS, LLC                    NaN   \n",
       " 3        11169  ENBRIDGE ENERGY, LIMITED PARTNERSHIP      SUPERIOR TERMINAL   \n",
       " 4          300                 PLAINS PIPELINE, L.P.         RED RIVER EAST   \n",
       " \n",
       "   Pipeline Location Pipeline Type                                 Liquid Type  \\\n",
       " 0           ONSHORE   ABOVEGROUND  HVL OR OTHER FLAMMABLE OR TOXIC FLUID, GAS   \n",
       " 1           ONSHORE   ABOVEGROUND                                   CRUDE OIL   \n",
       " 2           ONSHORE   ABOVEGROUND  HVL OR OTHER FLAMMABLE OR TOXIC FLUID, GAS   \n",
       " 3           ONSHORE   UNDERGROUND                                   CRUDE OIL   \n",
       " 4           ONSHORE   UNDERGROUND                                   CRUDE OIL   \n",
       " \n",
       "      ...     Other Fatalities Public Fatalities All Fatalities  \\\n",
       " 0    ...                  NaN               NaN            NaN   \n",
       " 1    ...                  NaN               NaN            NaN   \n",
       " 2    ...                  NaN               NaN            NaN   \n",
       " 3    ...                  NaN               NaN            NaN   \n",
       " 4    ...                  NaN               NaN            NaN   \n",
       " \n",
       "   Property Damage Costs Lost Commodity Costs  \\\n",
       " 0                 110.0               1517.0   \n",
       " 1                4000.0                  8.0   \n",
       " 2                   0.0                200.0   \n",
       " 3                 200.0                 40.0   \n",
       " 4               20000.0                150.0   \n",
       " \n",
       "    Public/Private Property Damage Costs  Emergency Response Costs  \\\n",
       " 0                                   0.0                       0.0   \n",
       " 1                                   0.0                       0.0   \n",
       " 2                                   0.0                       0.0   \n",
       " 3                                   0.0                   11300.0   \n",
       " 4                                   0.0                    7500.0   \n",
       " \n",
       "   Environmental Remediation Costs Other Costs  All Costs  \n",
       " 0                             0.0         0.0       1627  \n",
       " 1                             0.0         0.0       4008  \n",
       " 2                             0.0         0.0        200  \n",
       " 3                             0.0         0.0      11540  \n",
       " 4                          2000.0         0.0      29650  \n",
       " \n",
       " [5 rows x 48 columns])"
      ]
     },
     "execution_count": 3,
     "metadata": {},
     "output_type": "execute_result"
    }
   ],
   "source": [
    "price_df.head(), oil_df.head()"
   ]
  },
  {
   "cell_type": "code",
   "execution_count": 4,
   "metadata": {
    "scrolled": true
   },
   "outputs": [
    {
     "name": "stdout",
     "output_type": "stream",
     "text": [
      "<class 'pandas.core.frame.DataFrame'>\n",
      "RangeIndex: 2795 entries, 0 to 2794\n",
      "Data columns (total 48 columns):\n",
      "Report Number                           2795 non-null int64\n",
      "Supplemental Number                     2795 non-null int64\n",
      "Accident Year                           2795 non-null int64\n",
      "Accident Date/Time                      2795 non-null datetime64[ns]\n",
      "Operator ID                             2795 non-null int64\n",
      "Operator Name                           2795 non-null object\n",
      "Pipeline/Facility Name                  2674 non-null object\n",
      "Pipeline Location                       2795 non-null object\n",
      "Pipeline Type                           2777 non-null object\n",
      "Liquid Type                             2795 non-null object\n",
      "Liquid Subtype                          1349 non-null object\n",
      "Liquid Name                             222 non-null object\n",
      "Accident City                           2480 non-null object\n",
      "Accident County                         2720 non-null object\n",
      "Accident State                          2783 non-null object\n",
      "Accident Latitude                       2795 non-null float64\n",
      "Accident Longitude                      2795 non-null float64\n",
      "Cause Category                          2795 non-null object\n",
      "Cause Subcategory                       2795 non-null object\n",
      "Unintentional Release (Barrels)         2795 non-null float64\n",
      "Intentional Release (Barrels)           1209 non-null float64\n",
      "Liquid Recovery (Barrels)               2795 non-null float64\n",
      "Net Loss (Barrels)                      2795 non-null float64\n",
      "Liquid Ignition                         2795 non-null object\n",
      "Liquid Explosion                        2795 non-null object\n",
      "Pipeline Shutdown                       2583 non-null object\n",
      "Shutdown Date/Time                      1390 non-null object\n",
      "Restart Date/Time                       1341 non-null object\n",
      "Public Evacuations                      2338 non-null float64\n",
      "Operator Employee Injuries              12 non-null float64\n",
      "Operator Contractor Injuries            12 non-null float64\n",
      "Emergency Responder Injuries            12 non-null float64\n",
      "Other Injuries                          12 non-null float64\n",
      "Public Injuries                         12 non-null float64\n",
      "All Injuries                            12 non-null float64\n",
      "Operator Employee Fatalities            8 non-null float64\n",
      "Operator Contractor Fatalities          8 non-null float64\n",
      "Emergency Responder Fatalities          8 non-null float64\n",
      "Other Fatalities                        8 non-null float64\n",
      "Public Fatalities                       8 non-null float64\n",
      "All Fatalities                          8 non-null float64\n",
      "Property Damage Costs                   2788 non-null float64\n",
      "Lost Commodity Costs                    2791 non-null float64\n",
      "Public/Private Property Damage Costs    2785 non-null float64\n",
      "Emergency Response Costs                2789 non-null float64\n",
      "Environmental Remediation Costs         2787 non-null float64\n",
      "Other Costs                             2779 non-null float64\n",
      "All Costs                               2795 non-null int64\n",
      "dtypes: datetime64[ns](1), float64(25), int64(5), object(17)\n",
      "memory usage: 1.0+ MB\n"
     ]
    }
   ],
   "source": [
    "oil_df.info()"
   ]
  },
  {
   "cell_type": "code",
   "execution_count": 5,
   "metadata": {
    "scrolled": true
   },
   "outputs": [
    {
     "data": {
      "text/html": [
       "<div>\n",
       "<style scoped>\n",
       "    .dataframe tbody tr th:only-of-type {\n",
       "        vertical-align: middle;\n",
       "    }\n",
       "\n",
       "    .dataframe tbody tr th {\n",
       "        vertical-align: top;\n",
       "    }\n",
       "\n",
       "    .dataframe thead th {\n",
       "        text-align: right;\n",
       "    }\n",
       "</style>\n",
       "<table border=\"1\" class=\"dataframe\">\n",
       "  <thead>\n",
       "    <tr style=\"text-align: right;\">\n",
       "      <th></th>\n",
       "      <th>Accident Year</th>\n",
       "      <th>Operator Name</th>\n",
       "      <th>Accident City</th>\n",
       "      <th>Accident State</th>\n",
       "      <th>Cause Category</th>\n",
       "      <th>Cause Subcategory</th>\n",
       "      <th>All Costs</th>\n",
       "    </tr>\n",
       "  </thead>\n",
       "  <tbody>\n",
       "    <tr>\n",
       "      <th>194</th>\n",
       "      <td>2010</td>\n",
       "      <td>ENBRIDGE ENERGY, LIMITED PARTNERSHIP</td>\n",
       "      <td>MARSHALL</td>\n",
       "      <td>MI</td>\n",
       "      <td>MATERIAL/WELD/EQUIP FAILURE</td>\n",
       "      <td>ENVIRONMENTAL CRACKING-RELATED</td>\n",
       "      <td>840526118</td>\n",
       "    </tr>\n",
       "    <tr>\n",
       "      <th>2103</th>\n",
       "      <td>2015</td>\n",
       "      <td>PLAINS PIPELINE, L.P.</td>\n",
       "      <td>GOLETA</td>\n",
       "      <td>CA</td>\n",
       "      <td>CORROSION</td>\n",
       "      <td>EXTERNAL</td>\n",
       "      <td>142931884</td>\n",
       "    </tr>\n",
       "    <tr>\n",
       "      <th>523</th>\n",
       "      <td>2011</td>\n",
       "      <td>EXXONMOBIL PIPELINE CO</td>\n",
       "      <td>LAUREL</td>\n",
       "      <td>MT</td>\n",
       "      <td>NATURAL FORCE DAMAGE</td>\n",
       "      <td>HEAVY RAINS/FLOODS</td>\n",
       "      <td>135000000</td>\n",
       "    </tr>\n",
       "    <tr>\n",
       "      <th>1173</th>\n",
       "      <td>2013</td>\n",
       "      <td>MOBIL  PIPE  LINE COMPANY</td>\n",
       "      <td>MAYFLOWER</td>\n",
       "      <td>AR</td>\n",
       "      <td>MATERIAL/WELD/EQUIP FAILURE</td>\n",
       "      <td>MANUFACTURING-RELATED</td>\n",
       "      <td>91300000</td>\n",
       "    </tr>\n",
       "    <tr>\n",
       "      <th>2675</th>\n",
       "      <td>2016</td>\n",
       "      <td>COLONIAL PIPELINE CO</td>\n",
       "      <td>HELENA</td>\n",
       "      <td>AL</td>\n",
       "      <td>ALL OTHER CAUSES</td>\n",
       "      <td>UNKNOWN</td>\n",
       "      <td>66234072</td>\n",
       "    </tr>\n",
       "  </tbody>\n",
       "</table>\n",
       "</div>"
      ],
      "text/plain": [
       "      Accident Year                         Operator Name Accident City  \\\n",
       "194            2010  ENBRIDGE ENERGY, LIMITED PARTNERSHIP      MARSHALL   \n",
       "2103           2015                 PLAINS PIPELINE, L.P.        GOLETA   \n",
       "523            2011                EXXONMOBIL PIPELINE CO        LAUREL   \n",
       "1173           2013             MOBIL  PIPE  LINE COMPANY     MAYFLOWER   \n",
       "2675           2016                  COLONIAL PIPELINE CO        HELENA   \n",
       "\n",
       "     Accident State               Cause Category  \\\n",
       "194              MI  MATERIAL/WELD/EQUIP FAILURE   \n",
       "2103             CA                    CORROSION   \n",
       "523              MT         NATURAL FORCE DAMAGE   \n",
       "1173             AR  MATERIAL/WELD/EQUIP FAILURE   \n",
       "2675             AL             ALL OTHER CAUSES   \n",
       "\n",
       "                   Cause Subcategory  All Costs  \n",
       "194   ENVIRONMENTAL CRACKING-RELATED  840526118  \n",
       "2103                        EXTERNAL  142931884  \n",
       "523               HEAVY RAINS/FLOODS  135000000  \n",
       "1173           MANUFACTURING-RELATED   91300000  \n",
       "2675                         UNKNOWN   66234072  "
      ]
     },
     "execution_count": 5,
     "metadata": {},
     "output_type": "execute_result"
    }
   ],
   "source": [
    "df_byCost = oil_df.sort_values(by=['All Costs'], ascending=False)\n",
    "info = ['Accident Year','Operator Name','Accident City', 'Accident State', 'Cause Category'\n",
    "       ,'Cause Subcategory','All Costs']\n",
    "df_byCost[info].head()"
   ]
  },
  {
   "cell_type": "code",
   "execution_count": 6,
   "metadata": {
    "scrolled": false
   },
   "outputs": [
    {
     "data": {
      "text/plain": [
       "(['TEPPCO CRUDE PIPELINE, LLC or ENTERPRISE CRUDE PIPELINE LLC',\n",
       "  'SUNOCO PIPELINE L.P.',\n",
       "  'PLAINS PIPELINE, L.P.',\n",
       "  'ENTERPRISE PRODUCTS OPERATING LLC',\n",
       "  'MAGELLAN PIPELINE COMPANY, LP',\n",
       "  'COLONIAL PIPELINE CO',\n",
       "  'BUCKEYE PARTNERS, LP',\n",
       "  'CONOCOPHILLIPS or PHILLIPS 66 PIPELINE LLC',\n",
       "  'KINDER MORGAN LIQUID TERMINALS, LLC',\n",
       "  'MARATHON PIPE LINE LLC',\n",
       "  'ONEOK NGL PIPELINE LP or ONEOK NGL PIPELINE, LLC',\n",
       "  'ENBRIDGE ENERGY, LIMITED PARTNERSHIP',\n",
       "  'SHELL PIPELINE CO., L.P.',\n",
       "  'EXXONMOBIL PIPELINE CO',\n",
       "  'EXPLORER PIPELINE CO',\n",
       "  'MAGELLAN AMMONIA PIPELINE, L.P.',\n",
       "  'KOCH PIPELINE COMPANY, L.P.',\n",
       "  'CHEVRON PIPE LINE CO',\n",
       "  'NUSTAR PIPELINE OPERATING PARTNERSHIP L.P.',\n",
       "  'PLANTATION PIPE LINE CO'],\n",
       " [201,\n",
       "  180,\n",
       "  156,\n",
       "  155,\n",
       "  140,\n",
       "  136,\n",
       "  115,\n",
       "  114,\n",
       "  87,\n",
       "  87,\n",
       "  75,\n",
       "  71,\n",
       "  60,\n",
       "  47,\n",
       "  42,\n",
       "  37,\n",
       "  36,\n",
       "  34,\n",
       "  33,\n",
       "  32])"
      ]
     },
     "execution_count": 6,
     "metadata": {},
     "output_type": "execute_result"
    }
   ],
   "source": [
    "#MOST COMMON \"SPILLERS\"\n",
    "most_common = col.Counter(oil_df[\"Operator ID\"].values)\n",
    "ids = [x[0] for x in most_common.most_common(20)]\n",
    "\n",
    "hXvalue = []\n",
    "hvalues = []\n",
    "hlabels = []\n",
    "\n",
    "for j,i in enumerate(ids):\n",
    "    hXvalue.append(j+1)\n",
    "    hvalues.append(most_common[i])\n",
    "    hlabels.append(\" or \".join(oil_df['Operator Name'].loc[oil_df['Operator ID'] == i].unique()))\n",
    "\n",
    "hlabels,hvalues\n"
   ]
  },
  {
   "cell_type": "code",
   "execution_count": 7,
   "metadata": {},
   "outputs": [
    {
     "data": {
      "text/plain": [
       "(['MATERIAL/WELD/EQUIP FAILURE',\n",
       "  'CORROSION',\n",
       "  'INCORRECT OPERATION',\n",
       "  'NATURAL FORCE DAMAGE',\n",
       "  'ALL OTHER CAUSES',\n",
       "  'EXCAVATION DAMAGE',\n",
       "  'OTHER OUTSIDE FORCE DAMAGE'],\n",
       " [1435, 592, 378, 118, 118, 97, 57])"
      ]
     },
     "execution_count": 7,
     "metadata": {},
     "output_type": "execute_result"
    }
   ],
   "source": [
    "#MOST COMMON SPILL CAUSES\n",
    "spill_causes = col.Counter(oil_df[\"Cause Category\"].values)\n",
    "ids2 = [x[0] for x in spill_causes.most_common(10)]\n",
    "hXvalue2 = []\n",
    "hvalues2 = []\n",
    "hlabels2 = []\n",
    "\n",
    "for j,i in enumerate(ids2):\n",
    "    hXvalue2.append(j+1)\n",
    "    hvalues2.append(spill_causes[i])\n",
    "    hlabels2.append(i)\n",
    "\n",
    "hlabels2, hvalues2\n"
   ]
  },
  {
   "cell_type": "code",
   "execution_count": 8,
   "metadata": {},
   "outputs": [
    {
     "data": {
      "text/plain": [
       "TX    1004\n",
       "OK     236\n",
       "LA     169\n",
       "CA     153\n",
       "KS     150\n",
       "IL     108\n",
       "WY      98\n",
       "NJ      85\n",
       "MN      59\n",
       "IN      57\n",
       "NM      57\n",
       "OH      53\n",
       "ND      49\n",
       "IA      46\n",
       "PA      45\n",
       "MO      42\n",
       "MS      32\n",
       "MT      30\n",
       "MI      29\n",
       "WI      27\n",
       "CO      24\n",
       "NE      22\n",
       "AL      21\n",
       "VA      20\n",
       "GA      17\n",
       "SC      16\n",
       "NC      15\n",
       "KY      14\n",
       "NY      14\n",
       "AR      13\n",
       "AK      11\n",
       "SD       9\n",
       "MD       8\n",
       "UT       8\n",
       "WA       8\n",
       "FL       7\n",
       "TN       7\n",
       "OR       4\n",
       "ID       4\n",
       "HI       3\n",
       "WV       2\n",
       "CT       2\n",
       "MA       2\n",
       "ME       1\n",
       "NV       1\n",
       "PR       1\n",
       "Name: Accident State, dtype: int64"
      ]
     },
     "execution_count": 8,
     "metadata": {},
     "output_type": "execute_result"
    }
   ],
   "source": [
    "spills_per_state_percentage = oil_df[\"Accident State\"].value_counts(normalize=True).sort_values(ascending=False);\n",
    "spills_per_state_number = oil_df[\"Accident State\"].value_counts()\n",
    "spills_per_state_percentage\n",
    "spills_per_state_number\n"
   ]
  },
  {
   "cell_type": "code",
   "execution_count": null,
   "metadata": {},
   "outputs": [],
   "source": []
  },
  {
   "cell_type": "code",
   "execution_count": 9,
   "metadata": {},
   "outputs": [
    {
     "data": {
      "text/plain": [
       "Accident State\n",
       "TX    57246318.0\n",
       "LA    53402564.0\n",
       "AK    44156471.0\n",
       "CA    20376668.0\n",
       "IN    15902914.0\n",
       "IL    14927457.0\n",
       "WI    14653046.0\n",
       "OK    10212737.0\n",
       "MT     9145728.0\n",
       "IA     8660767.0\n",
       "OH     6028545.0\n",
       "MI     5120508.0\n",
       "MN     4609727.0\n",
       "PA     4151833.0\n",
       "KS     3526302.0\n",
       "WV     3321591.0\n",
       "NJ     3185475.0\n",
       "ND     2782208.0\n",
       "AL     2642900.0\n",
       "NY     2599716.0\n",
       "AR     2334549.0\n",
       "VA     2005511.0\n",
       "NC     1888256.0\n",
       "NM     1697794.0\n",
       "SD     1603227.0\n",
       "CO     1510180.0\n",
       "NE     1353342.0\n",
       "WY     1120080.0\n",
       "SC     1064980.0\n",
       "UT     1030415.0\n",
       "MS      901866.0\n",
       "GA      615556.0\n",
       "MO      523819.0\n",
       "FL      435750.0\n",
       "TN      369700.0\n",
       "KY      258099.0\n",
       "MA      192500.0\n",
       "ID      179506.0\n",
       "WA      152581.0\n",
       "MD      142893.0\n",
       "PR       90005.0\n",
       "OR       81344.0\n",
       "CT       35000.0\n",
       "HI       14200.0\n",
       "NV       14000.0\n",
       "ME        4000.0\n",
       "Name: Property Damage Costs, dtype: float64"
      ]
     },
     "execution_count": 9,
     "metadata": {},
     "output_type": "execute_result"
    }
   ],
   "source": [
    "property_damage = oil_df.groupby(\"Accident State\")[\"Property Damage Costs\"].sum().sort_values(ascending=False)\n",
    "property_damage"
   ]
  },
  {
   "cell_type": "code",
   "execution_count": 10,
   "metadata": {},
   "outputs": [
    {
     "data": {
      "text/plain": [
       "Cause Subcategory\n",
       "EXTERNAL                                2\n",
       "THREADED CONNECTION/COUPLING FAILURE    1\n",
       "Name: Cause Subcategory, dtype: int64"
      ]
     },
     "execution_count": 10,
     "metadata": {},
     "output_type": "execute_result"
    }
   ],
   "source": [
    "accident_causes = oil_df.groupby(\"Accident State\")[\"Cause Subcategory\"].value_counts()\n",
    "accident_causes[\"HI\"]"
   ]
  },
  {
   "cell_type": "code",
   "execution_count": 11,
   "metadata": {
    "scrolled": false
   },
   "outputs": [
    {
     "data": {
      "text/plain": [
       "CRUDE OIL                                               1398\n",
       "REFINED AND/OR PETROLEUM PRODUCT (NON-HVL), LIQUID       939\n",
       "HVL OR OTHER FLAMMABLE OR TOXIC FLUID, GAS               418\n",
       "CO2 (CARBON DIOXIDE)                                      38\n",
       "BIOFUEL / ALTERNATIVE FUEL(INCLUDING ETHANOL BLENDS)       2\n",
       "Name: Liquid Type, dtype: int64"
      ]
     },
     "execution_count": 11,
     "metadata": {},
     "output_type": "execute_result"
    }
   ],
   "source": [
    "liquid_type = oil_df[\"Liquid Type\"].value_counts()\n",
    "liquid_type"
   ]
  },
  {
   "cell_type": "code",
   "execution_count": 12,
   "metadata": {},
   "outputs": [
    {
     "data": {
      "text/plain": [
       "ONSHORE     2777\n",
       "OFFSHORE      18\n",
       "Name: Pipeline Location, dtype: int64"
      ]
     },
     "execution_count": 12,
     "metadata": {},
     "output_type": "execute_result"
    }
   ],
   "source": [
    "location = oil_df[\"Pipeline Location\"].value_counts()\n",
    "location"
   ]
  },
  {
   "cell_type": "code",
   "execution_count": 13,
   "metadata": {},
   "outputs": [
    {
     "data": {
      "text/plain": [
       "ABOVEGROUND        1475\n",
       "UNDERGROUND         985\n",
       "TANK                301\n",
       "TRANSITION AREA      16\n",
       "Name: Pipeline Type, dtype: int64"
      ]
     },
     "execution_count": 13,
     "metadata": {},
     "output_type": "execute_result"
    }
   ],
   "source": [
    "pipeline_type = oil_df[\"Pipeline Type\"].value_counts()\n",
    "pipeline_type"
   ]
  },
  {
   "cell_type": "code",
   "execution_count": 14,
   "metadata": {},
   "outputs": [
    {
     "data": {
      "text/html": [
       "<div>\n",
       "<style scoped>\n",
       "    .dataframe tbody tr th:only-of-type {\n",
       "        vertical-align: middle;\n",
       "    }\n",
       "\n",
       "    .dataframe tbody tr th {\n",
       "        vertical-align: top;\n",
       "    }\n",
       "\n",
       "    .dataframe thead th {\n",
       "        text-align: right;\n",
       "    }\n",
       "</style>\n",
       "<table border=\"1\" class=\"dataframe\">\n",
       "  <thead>\n",
       "    <tr style=\"text-align: right;\">\n",
       "      <th></th>\n",
       "      <th>Day</th>\n",
       "      <th>WTI</th>\n",
       "    </tr>\n",
       "  </thead>\n",
       "  <tbody>\n",
       "    <tr>\n",
       "      <th>0</th>\n",
       "      <td>2017-01-31</td>\n",
       "      <td>52.75</td>\n",
       "    </tr>\n",
       "    <tr>\n",
       "      <th>1</th>\n",
       "      <td>2017-01-30</td>\n",
       "      <td>52.63</td>\n",
       "    </tr>\n",
       "    <tr>\n",
       "      <th>2</th>\n",
       "      <td>2017-01-27</td>\n",
       "      <td>53.18</td>\n",
       "    </tr>\n",
       "    <tr>\n",
       "      <th>3</th>\n",
       "      <td>2017-01-26</td>\n",
       "      <td>53.24</td>\n",
       "    </tr>\n",
       "    <tr>\n",
       "      <th>4</th>\n",
       "      <td>2017-01-25</td>\n",
       "      <td>52.14</td>\n",
       "    </tr>\n",
       "  </tbody>\n",
       "</table>\n",
       "</div>"
      ],
      "text/plain": [
       "         Day    WTI\n",
       "0 2017-01-31  52.75\n",
       "1 2017-01-30  52.63\n",
       "2 2017-01-27  53.18\n",
       "3 2017-01-26  53.24\n",
       "4 2017-01-25  52.14"
      ]
     },
     "execution_count": 14,
     "metadata": {},
     "output_type": "execute_result"
    }
   ],
   "source": [
    "#looking at relationship between price per barrel and average number of accidents\n",
    "price_df.head()\n",
    "price_df.columns = [\"Day\", \"WTI\"]\n",
    "price_df.head()\n",
    "price_df[\"WTI\"].describe()\n",
    "price_df.head()\n"
   ]
  },
  {
   "cell_type": "code",
   "execution_count": 15,
   "metadata": {
    "scrolled": false
   },
   "outputs": [
    {
     "data": {
      "image/png": "[encoded data removed]",
      "text/plain": [
       "<Figure size 720x720 with 5 Axes>"
      ]
     },
     "metadata": {},
     "output_type": "display_data"
    }
   ],
   "source": [
    "def Weekday(date):\n",
    "    wday_dum = date.weekday()\n",
    "    if wday_dum is 0:\n",
    "        wday = 'Mon'\n",
    "    elif wday_dum is 1:\n",
    "        wday = 'Tue'\n",
    "    elif wday_dum is 2:\n",
    "        wday = 'Wed'\n",
    "    elif wday_dum is 3:\n",
    "        wday = 'Thu'\n",
    "    elif wday_dum is 4:\n",
    "        wday = 'Fri'\n",
    "    elif wday_dum is 5:\n",
    "        wday = 'Sat'\n",
    "    else:\n",
    "        wday = 'Sun'\n",
    "    return wday\n",
    "\n",
    "Hour = lambda x: x.hour\n",
    "Day = lambda x: x.day\n",
    "Month = lambda x: x.month\n",
    "Year = lambda x: x.year\n",
    "\n",
    "oil_df['weekday'] = oil_df.loc[:, \"Accident Date/Time\"].apply(lambda x: Weekday(x))\n",
    "\n",
    "cat = [Year,Month,Day,Hour]\n",
    "num = len(cat)\n",
    "plt.figure(figsize=(10,10))\n",
    "for (i, c) in enumerate(cat):\n",
    "    plt.subplot(num+1,1,i+1)\n",
    "    sns.countplot(oil_df[\"Accident Date/Time\"].apply(c))\n",
    "    plt.xlabel('')\n",
    "    plt.ylabel('accident count')\n",
    "\n",
    "plt.subplot(num+1,1,5)\n",
    "sns.countplot(oil_df[\"Accident Date/Time\"].apply(Weekday),order=['Mon','Tue','Wed','Thu','Fri','Sat','Sun'])\n",
    "plt.xlabel('')\n",
    "plt.ylabel('accident cnt')\n",
    "plt.subplots_adjust(left=None, bottom=None, right=None, top=None, wspace=0, hspace=0.5)"
   ]
  },
  {
   "cell_type": "code",
   "execution_count": 17,
   "metadata": {},
   "outputs": [
    {
     "ename": "TypeError",
     "evalue": "strptime() argument 1 must be str, not Timestamp",
     "output_type": "error",
     "traceback": [
      "\u001b[1;31m---------------------------------------------------------------------------\u001b[0m",
      "\u001b[1;31mTypeError\u001b[0m                                 Traceback (most recent call last)",
      "\u001b[1;32m<ipython-input-17-e66496ca22a0>\u001b[0m in \u001b[0;36m<module>\u001b[1;34m()\u001b[0m\n\u001b[0;32m      4\u001b[0m     \u001b[0mdate_obj\u001b[0m \u001b[1;33m=\u001b[0m \u001b[0mdatetime\u001b[0m\u001b[1;33m.\u001b[0m\u001b[0mdatetime\u001b[0m\u001b[1;33m.\u001b[0m\u001b[0mstrptime\u001b[0m\u001b[1;33m(\u001b[0m\u001b[0mdate\u001b[0m\u001b[1;33m,\u001b[0m \u001b[0mtime_format\u001b[0m\u001b[1;33m)\u001b[0m\u001b[1;33m\u001b[0m\u001b[0m\n\u001b[0;32m      5\u001b[0m     \u001b[1;32mreturn\u001b[0m \u001b[0mdate_obj\u001b[0m\u001b[1;33m\u001b[0m\u001b[0m\n\u001b[1;32m----> 6\u001b[1;33m \u001b[0mprice_df\u001b[0m\u001b[1;33m[\u001b[0m\u001b[1;34m'Day_obj'\u001b[0m\u001b[1;33m]\u001b[0m \u001b[1;33m=\u001b[0m \u001b[0mprice_df\u001b[0m\u001b[1;33m[\u001b[0m\u001b[1;34m'Day'\u001b[0m\u001b[1;33m]\u001b[0m\u001b[1;33m.\u001b[0m\u001b[0mapply\u001b[0m\u001b[1;33m(\u001b[0m\u001b[0mmyDate\u001b[0m\u001b[1;33m)\u001b[0m\u001b[1;33m\u001b[0m\u001b[0m\n\u001b[0m",
      "\u001b[1;32m~\\Anaconda3\\lib\\site-packages\\pandas\\core\\series.py\u001b[0m in \u001b[0;36mapply\u001b[1;34m(self, func, convert_dtype, args, **kwds)\u001b[0m\n\u001b[0;32m   3190\u001b[0m             \u001b[1;32melse\u001b[0m\u001b[1;33m:\u001b[0m\u001b[1;33m\u001b[0m\u001b[0m\n\u001b[0;32m   3191\u001b[0m                 \u001b[0mvalues\u001b[0m \u001b[1;33m=\u001b[0m \u001b[0mself\u001b[0m\u001b[1;33m.\u001b[0m\u001b[0mastype\u001b[0m\u001b[1;33m(\u001b[0m\u001b[0mobject\u001b[0m\u001b[1;33m)\u001b[0m\u001b[1;33m.\u001b[0m\u001b[0mvalues\u001b[0m\u001b[1;33m\u001b[0m\u001b[0m\n\u001b[1;32m-> 3192\u001b[1;33m                 \u001b[0mmapped\u001b[0m \u001b[1;33m=\u001b[0m \u001b[0mlib\u001b[0m\u001b[1;33m.\u001b[0m\u001b[0mmap_infer\u001b[0m\u001b[1;33m(\u001b[0m\u001b[0mvalues\u001b[0m\u001b[1;33m,\u001b[0m \u001b[0mf\u001b[0m\u001b[1;33m,\u001b[0m \u001b[0mconvert\u001b[0m\u001b[1;33m=\u001b[0m\u001b[0mconvert_dtype\u001b[0m\u001b[1;33m)\u001b[0m\u001b[1;33m\u001b[0m\u001b[0m\n\u001b[0m\u001b[0;32m   3193\u001b[0m \u001b[1;33m\u001b[0m\u001b[0m\n\u001b[0;32m   3194\u001b[0m         \u001b[1;32mif\u001b[0m \u001b[0mlen\u001b[0m\u001b[1;33m(\u001b[0m\u001b[0mmapped\u001b[0m\u001b[1;33m)\u001b[0m \u001b[1;32mand\u001b[0m \u001b[0misinstance\u001b[0m\u001b[1;33m(\u001b[0m\u001b[0mmapped\u001b[0m\u001b[1;33m[\u001b[0m\u001b[1;36m0\u001b[0m\u001b[1;33m]\u001b[0m\u001b[1;33m,\u001b[0m \u001b[0mSeries\u001b[0m\u001b[1;33m)\u001b[0m\u001b[1;33m:\u001b[0m\u001b[1;33m\u001b[0m\u001b[0m\n",
      "\u001b[1;32mpandas/_libs/src\\inference.pyx\u001b[0m in \u001b[0;36mpandas._libs.lib.map_infer\u001b[1;34m()\u001b[0m\n",
      "\u001b[1;32m<ipython-input-17-e66496ca22a0>\u001b[0m in \u001b[0;36mmyDate\u001b[1;34m(date)\u001b[0m\n\u001b[0;32m      2\u001b[0m \u001b[1;32mdef\u001b[0m \u001b[0mmyDate\u001b[0m \u001b[1;33m(\u001b[0m\u001b[0mdate\u001b[0m\u001b[1;33m)\u001b[0m\u001b[1;33m:\u001b[0m\u001b[1;33m\u001b[0m\u001b[0m\n\u001b[0;32m      3\u001b[0m     \u001b[0mtime_format\u001b[0m \u001b[1;33m=\u001b[0m \u001b[1;34m'%m/%d/%Y'\u001b[0m\u001b[1;33m\u001b[0m\u001b[0m\n\u001b[1;32m----> 4\u001b[1;33m     \u001b[0mdate_obj\u001b[0m \u001b[1;33m=\u001b[0m \u001b[0mdatetime\u001b[0m\u001b[1;33m.\u001b[0m\u001b[0mdatetime\u001b[0m\u001b[1;33m.\u001b[0m\u001b[0mstrptime\u001b[0m\u001b[1;33m(\u001b[0m\u001b[0mdate\u001b[0m\u001b[1;33m,\u001b[0m \u001b[0mtime_format\u001b[0m\u001b[1;33m)\u001b[0m\u001b[1;33m\u001b[0m\u001b[0m\n\u001b[0m\u001b[0;32m      5\u001b[0m     \u001b[1;32mreturn\u001b[0m \u001b[0mdate_obj\u001b[0m\u001b[1;33m\u001b[0m\u001b[0m\n\u001b[0;32m      6\u001b[0m \u001b[0mprice_df\u001b[0m\u001b[1;33m[\u001b[0m\u001b[1;34m'Day_obj'\u001b[0m\u001b[1;33m]\u001b[0m \u001b[1;33m=\u001b[0m \u001b[0mprice_df\u001b[0m\u001b[1;33m[\u001b[0m\u001b[1;34m'Day'\u001b[0m\u001b[1;33m]\u001b[0m\u001b[1;33m.\u001b[0m\u001b[0mapply\u001b[0m\u001b[1;33m(\u001b[0m\u001b[0mmyDate\u001b[0m\u001b[1;33m)\u001b[0m\u001b[1;33m\u001b[0m\u001b[0m\n",
      "\u001b[1;31mTypeError\u001b[0m: strptime() argument 1 must be str, not Timestamp"
     ]
    }
   ],
   "source": [
    "price_df.columns = ['Day', 'Cushing']\n",
    "def myDate (date):\n",
    "    time_format = '%m/%d/%Y'\n",
    "    date_obj = datetime.datetime.strptime(date, time_format)\n",
    "    return date_obj\n",
    "price_df['Day_obj'] = price_df['Day'].apply(myDate)"
   ]
  },
  {
   "cell_type": "code",
   "execution_count": null,
   "metadata": {},
   "outputs": [],
   "source": []
  },
  {
   "cell_type": "code",
   "execution_count": null,
   "metadata": {},
   "outputs": [],
   "source": []
  }
 ],
 "metadata": {
  "kernelspec": {
   "display_name": "Python 3",
   "language": "python",
   "name": "python3"
  },
  "language_info": {
   "codemirror_mode": {
    "name": "ipython",
    "version": 3
   },
   "file_extension": ".py",
   "mimetype": "text/x-python",
   "name": "python",
   "nbconvert_exporter": "python",
   "pygments_lexer": "ipython3",
   "version": "3.6.4"
  }
 },
 "nbformat": 4,
 "nbformat_minor": 2
}

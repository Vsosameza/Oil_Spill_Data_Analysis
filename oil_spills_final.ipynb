{
 "cells": [
  {
   "cell_type": "code",
   "execution_count": null,
   "metadata": {},
   "outputs": [],
   "source": [
    "import pandas as pd \n",
    "import numpy as np\n",
    "import collections as col\n",
    "from pandas import Series ,DataFrame\n",
    "import datetime as datetime\n",
    "#from datetime import datetime\n",
    "from time import strptime\n",
    "import seaborn as sns \n",
    "import matplotlib.pyplot as plt\n",
    "%matplotlib inline\n",
    "\n",
    "import plotly.plotly as py\n",
    "import config.py \n",
    "import plotly.graph_objs as go\n",
    "from plotly import tools\n",
    "from plotly.offline import iplot, init_notebook_mode\n",
    "init_notebook_mode()\n",
    "\n",
    "oil_df = pd.read_csv(\"Desktop/oildataRAW.csv\", parse_dates=[3])\n",
    "oil_df.head()\n",
    "price_df = pd.read_csv(\"Desktop/price_per_barrel_01042010-01312017.csv\", parse_dates=[0])"
   ]
  }
 ],
 "metadata": {
  "kernelspec": {
   "display_name": "Python 3",
   "language": "python",
   "name": "python3"
  },
  "language_info": {
   "codemirror_mode": {
    "name": "ipython",
    "version": 3
   },
   "file_extension": ".py",
   "mimetype": "text/x-python",
   "name": "python",
   "nbconvert_exporter": "python",
   "pygments_lexer": "ipython3",
   "version": "3.6.4"
  }
 },
 "nbformat": 4,
 "nbformat_minor": 2
}

{
 "cells": [
  {
   "cell_type": "code",
   "execution_count": 1,
   "metadata": {},
   "outputs": [],
   "source": [
    "#Pipeline and Hazardous Materials Safety Administration\n",
    "#Enbridge Energy Marshall Michigan\n",
    "#ExxonMobil Laurel Montana\n",
    "#Mobil Mayflower Arkansas"
   ]
  },
  {
   "cell_type": "code",
   "execution_count": 2,
   "metadata": {},
   "outputs": [],
   "source": [
    "import tweepy\n",
    "import pandas as pd\n",
    "import time\n",
    "import requests\n",
    "import config\n",
    "\n",
    "# consumer_key =\n",
    "# consumer_secret = \n",
    "# app_key = \n",
    "# app_secret = \n",
    "\n",
    "auth = tweepy.OAuthHandler(consumer_key, consumer_secret)\n",
    "auth.set_access_token(app_key, app_secret)\n",
    "api = tweepy.API(auth)"
   ]
  },
  {
   "cell_type": "code",
   "execution_count": 4,
   "metadata": {},
   "outputs": [],
   "source": [
    "spills = []\n",
    "#empty lists to populate\n",
    "for status in tweepy.Cursor(api.search, q='oil spill').items(100):\n",
    "    spills.append(status)"
   ]
  },
  {
   "cell_type": "code",
   "execution_count": 5,
   "metadata": {},
   "outputs": [
    {
     "data": {
      "text/plain": [
       "Status(_api=<tweepy.api.API object at 0x111870b00>, _json={'created_at': 'Fri Jun 29 01:46:57 +0000 2018', 'id': 1012512714525114371, 'id_str': '1012512714525114371', 'text': 'RT @MikeHudema: Pipelines are not safe. \"Our rivers contaminated, we can’t fish anymore.\" Oil spill hits Bayelsa community: https://t.co/Vz…', 'truncated': False, 'entities': {'hashtags': [], 'symbols': [], 'user_mentions': [{'screen_name': 'MikeHudema', 'name': 'Mike Hudema', 'id': 15088481, 'id_str': '15088481', 'indices': [3, 14]}], 'urls': []}, 'metadata': {'iso_language_code': 'en', 'result_type': 'recent'}, 'source': '<a href=\"http://twitter.com/download/iphone\" rel=\"nofollow\">Twitter for iPhone</a>', 'in_reply_to_status_id': None, 'in_reply_to_status_id_str': None, 'in_reply_to_user_id': None, 'in_reply_to_user_id_str': None, 'in_reply_to_screen_name': None, 'user': {'id': 577251879, 'id_str': '577251879', 'name': 'Noneya', 'screen_name': 'naughtygalmoi', 'location': 'Noneya', 'description': 'LHDC. Random and love hard! #TruthSeeker #TeamNaturalHair #TeamLocs #waterislife #futureRN #StudentNurse👩🏽\\u200d🎓👩🏽\\u200d⚕️ ✊🏾', 'url': 'https://t.co/dYs2SEl4Pb', 'entities': {'url': {'urls': [{'url': 'https://t.co/dYs2SEl4Pb', 'expanded_url': 'http://askmeandilltellyou.com', 'display_url': 'askmeandilltellyou.com', 'indices': [0, 23]}]}, 'description': {'urls': []}}, 'protected': False, 'followers_count': 1211, 'friends_count': 1121, 'listed_count': 12, 'created_at': 'Fri May 11 14:15:46 +0000 2012', 'favourites_count': 11666, 'utc_offset': None, 'time_zone': None, 'geo_enabled': False, 'verified': False, 'statuses_count': 5849, 'lang': 'en', 'contributors_enabled': False, 'is_translator': False, 'is_translation_enabled': False, 'profile_background_color': '1A1B1F', 'profile_background_image_url': 'http://abs.twimg.com/images/themes/theme9/bg.gif', 'profile_background_image_url_https': 'https://abs.twimg.com/images/themes/theme9/bg.gif', 'profile_background_tile': False, 'profile_image_url': 'http://pbs.twimg.com/profile_images/1007620766119219200/dMoeLln7_normal.jpg', 'profile_image_url_https': 'https://pbs.twimg.com/profile_images/1007620766119219200/dMoeLln7_normal.jpg', 'profile_banner_url': 'https://pbs.twimg.com/profile_banners/577251879/1404879549', 'profile_link_color': '2FC2EF', 'profile_sidebar_border_color': '181A1E', 'profile_sidebar_fill_color': '252429', 'profile_text_color': '666666', 'profile_use_background_image': True, 'has_extended_profile': False, 'default_profile': False, 'default_profile_image': False, 'following': False, 'follow_request_sent': False, 'notifications': False, 'translator_type': 'none'}, 'geo': None, 'coordinates': None, 'place': None, 'contributors': None, 'retweeted_status': {'created_at': 'Wed Jun 27 15:19:01 +0000 2018', 'id': 1011992303421001730, 'id_str': '1011992303421001730', 'text': 'Pipelines are not safe. \"Our rivers contaminated, we can’t fish anymore.\" Oil spill hits Bayelsa community:… https://t.co/JbLDcR9QBD', 'truncated': True, 'entities': {'hashtags': [], 'symbols': [], 'user_mentions': [], 'urls': [{'url': 'https://t.co/JbLDcR9QBD', 'expanded_url': 'https://twitter.com/i/web/status/1011992303421001730', 'display_url': 'twitter.com/i/web/status/1…', 'indices': [109, 132]}]}, 'metadata': {'iso_language_code': 'en', 'result_type': 'recent'}, 'source': '<a href=\"https://buffer.com\" rel=\"nofollow\">Buffer</a>', 'in_reply_to_status_id': None, 'in_reply_to_status_id_str': None, 'in_reply_to_user_id': None, 'in_reply_to_user_id_str': None, 'in_reply_to_screen_name': None, 'user': {'id': 15088481, 'id_str': '15088481', 'name': 'Mike Hudema', 'screen_name': 'MikeHudema', 'location': 'Edmonton, Alberta - Treaty 6', 'description': '#Greenpeace Canada #Climate and #Energy Campaigner focusing on #tarsands, #greenjobs & #solar. Time to #go100re. Loves #Alberta, brunch, and wine!', 'url': 'https://t.co/6b4y4BTwJL', 'entities': {'url': {'urls': [{'url': 'https://t.co/6b4y4BTwJL', 'expanded_url': 'http://www.greenpeace.ca/tarsands', 'display_url': 'greenpeace.ca/tarsands', 'indices': [0, 23]}]}, 'description': {'urls': []}}, 'protected': False, 'followers_count': 77307, 'friends_count': 45547, 'listed_count': 1778, 'created_at': 'Wed Jun 11 19:56:52 +0000 2008', 'favourites_count': 15719, 'utc_offset': None, 'time_zone': None, 'geo_enabled': True, 'verified': True, 'statuses_count': 25596, 'lang': 'en', 'contributors_enabled': False, 'is_translator': False, 'is_translation_enabled': False, 'profile_background_color': '0F0A02', 'profile_background_image_url': 'http://abs.twimg.com/images/themes/theme5/bg.gif', 'profile_background_image_url_https': 'https://abs.twimg.com/images/themes/theme5/bg.gif', 'profile_background_tile': False, 'profile_image_url': 'http://pbs.twimg.com/profile_images/895729261163810816/1qI8Mbzj_normal.jpg', 'profile_image_url_https': 'https://pbs.twimg.com/profile_images/895729261163810816/1qI8Mbzj_normal.jpg', 'profile_banner_url': 'https://pbs.twimg.com/profile_banners/15088481/1529087360', 'profile_link_color': '8A7302', 'profile_sidebar_border_color': 'BCB302', 'profile_sidebar_fill_color': '171106', 'profile_text_color': '473623', 'profile_use_background_image': True, 'has_extended_profile': True, 'default_profile': False, 'default_profile_image': False, 'following': False, 'follow_request_sent': False, 'notifications': False, 'translator_type': 'none'}, 'geo': None, 'coordinates': None, 'place': None, 'contributors': None, 'is_quote_status': False, 'retweet_count': 420, 'favorite_count': 371, 'favorited': False, 'retweeted': False, 'possibly_sensitive': False, 'lang': 'en'}, 'is_quote_status': False, 'retweet_count': 420, 'favorite_count': 0, 'favorited': False, 'retweeted': False, 'lang': 'en'}, created_at=datetime.datetime(2018, 6, 29, 1, 46, 57), id=1012512714525114371, id_str='1012512714525114371', text='RT @MikeHudema: Pipelines are not safe. \"Our rivers contaminated, we can’t fish anymore.\" Oil spill hits Bayelsa community: https://t.co/Vz…', truncated=False, entities={'hashtags': [], 'symbols': [], 'user_mentions': [{'screen_name': 'MikeHudema', 'name': 'Mike Hudema', 'id': 15088481, 'id_str': '15088481', 'indices': [3, 14]}], 'urls': []}, metadata={'iso_language_code': 'en', 'result_type': 'recent'}, source='Twitter for iPhone', source_url='http://twitter.com/download/iphone', in_reply_to_status_id=None, in_reply_to_status_id_str=None, in_reply_to_user_id=None, in_reply_to_user_id_str=None, in_reply_to_screen_name=None, author=User(_api=<tweepy.api.API object at 0x111870b00>, _json={'id': 577251879, 'id_str': '577251879', 'name': 'Noneya', 'screen_name': 'naughtygalmoi', 'location': 'Noneya', 'description': 'LHDC. Random and love hard! #TruthSeeker #TeamNaturalHair #TeamLocs #waterislife #futureRN #StudentNurse👩🏽\\u200d🎓👩🏽\\u200d⚕️ ✊🏾', 'url': 'https://t.co/dYs2SEl4Pb', 'entities': {'url': {'urls': [{'url': 'https://t.co/dYs2SEl4Pb', 'expanded_url': 'http://askmeandilltellyou.com', 'display_url': 'askmeandilltellyou.com', 'indices': [0, 23]}]}, 'description': {'urls': []}}, 'protected': False, 'followers_count': 1211, 'friends_count': 1121, 'listed_count': 12, 'created_at': 'Fri May 11 14:15:46 +0000 2012', 'favourites_count': 11666, 'utc_offset': None, 'time_zone': None, 'geo_enabled': False, 'verified': False, 'statuses_count': 5849, 'lang': 'en', 'contributors_enabled': False, 'is_translator': False, 'is_translation_enabled': False, 'profile_background_color': '1A1B1F', 'profile_background_image_url': 'http://abs.twimg.com/images/themes/theme9/bg.gif', 'profile_background_image_url_https': 'https://abs.twimg.com/images/themes/theme9/bg.gif', 'profile_background_tile': False, 'profile_image_url': 'http://pbs.twimg.com/profile_images/1007620766119219200/dMoeLln7_normal.jpg', 'profile_image_url_https': 'https://pbs.twimg.com/profile_images/1007620766119219200/dMoeLln7_normal.jpg', 'profile_banner_url': 'https://pbs.twimg.com/profile_banners/577251879/1404879549', 'profile_link_color': '2FC2EF', 'profile_sidebar_border_color': '181A1E', 'profile_sidebar_fill_color': '252429', 'profile_text_color': '666666', 'profile_use_background_image': True, 'has_extended_profile': False, 'default_profile': False, 'default_profile_image': False, 'following': False, 'follow_request_sent': False, 'notifications': False, 'translator_type': 'none'}, id=577251879, id_str='577251879', name='Noneya', screen_name='naughtygalmoi', location='Noneya', description='LHDC. Random and love hard! #TruthSeeker #TeamNaturalHair #TeamLocs #waterislife #futureRN #StudentNurse👩🏽\\u200d🎓👩🏽\\u200d⚕️ ✊🏾', url='https://t.co/dYs2SEl4Pb', entities={'url': {'urls': [{'url': 'https://t.co/dYs2SEl4Pb', 'expanded_url': 'http://askmeandilltellyou.com', 'display_url': 'askmeandilltellyou.com', 'indices': [0, 23]}]}, 'description': {'urls': []}}, protected=False, followers_count=1211, friends_count=1121, listed_count=12, created_at=datetime.datetime(2012, 5, 11, 14, 15, 46), favourites_count=11666, utc_offset=None, time_zone=None, geo_enabled=False, verified=False, statuses_count=5849, lang='en', contributors_enabled=False, is_translator=False, is_translation_enabled=False, profile_background_color='1A1B1F', profile_background_image_url='http://abs.twimg.com/images/themes/theme9/bg.gif', profile_background_image_url_https='https://abs.twimg.com/images/themes/theme9/bg.gif', profile_background_tile=False, profile_image_url='http://pbs.twimg.com/profile_images/1007620766119219200/dMoeLln7_normal.jpg', profile_image_url_https='https://pbs.twimg.com/profile_images/1007620766119219200/dMoeLln7_normal.jpg', profile_banner_url='https://pbs.twimg.com/profile_banners/577251879/1404879549', profile_link_color='2FC2EF', profile_sidebar_border_color='181A1E', profile_sidebar_fill_color='252429', profile_text_color='666666', profile_use_background_image=True, has_extended_profile=False, default_profile=False, default_profile_image=False, following=False, follow_request_sent=False, notifications=False, translator_type='none'), user=User(_api=<tweepy.api.API object at 0x111870b00>, _json={'id': 577251879, 'id_str': '577251879', 'name': 'Noneya', 'screen_name': 'naughtygalmoi', 'location': 'Noneya', 'description': 'LHDC. Random and love hard! #TruthSeeker #TeamNaturalHair #TeamLocs #waterislife #futureRN #StudentNurse👩🏽\\u200d🎓👩🏽\\u200d⚕️ ✊🏾', 'url': 'https://t.co/dYs2SEl4Pb', 'entities': {'url': {'urls': [{'url': 'https://t.co/dYs2SEl4Pb', 'expanded_url': 'http://askmeandilltellyou.com', 'display_url': 'askmeandilltellyou.com', 'indices': [0, 23]}]}, 'description': {'urls': []}}, 'protected': False, 'followers_count': 1211, 'friends_count': 1121, 'listed_count': 12, 'created_at': 'Fri May 11 14:15:46 +0000 2012', 'favourites_count': 11666, 'utc_offset': None, 'time_zone': None, 'geo_enabled': False, 'verified': False, 'statuses_count': 5849, 'lang': 'en', 'contributors_enabled': False, 'is_translator': False, 'is_translation_enabled': False, 'profile_background_color': '1A1B1F', 'profile_background_image_url': 'http://abs.twimg.com/images/themes/theme9/bg.gif', 'profile_background_image_url_https': 'https://abs.twimg.com/images/themes/theme9/bg.gif', 'profile_background_tile': False, 'profile_image_url': 'http://pbs.twimg.com/profile_images/1007620766119219200/dMoeLln7_normal.jpg', 'profile_image_url_https': 'https://pbs.twimg.com/profile_images/1007620766119219200/dMoeLln7_normal.jpg', 'profile_banner_url': 'https://pbs.twimg.com/profile_banners/577251879/1404879549', 'profile_link_color': '2FC2EF', 'profile_sidebar_border_color': '181A1E', 'profile_sidebar_fill_color': '252429', 'profile_text_color': '666666', 'profile_use_background_image': True, 'has_extended_profile': False, 'default_profile': False, 'default_profile_image': False, 'following': False, 'follow_request_sent': False, 'notifications': False, 'translator_type': 'none'}, id=577251879, id_str='577251879', name='Noneya', screen_name='naughtygalmoi', location='Noneya', description='LHDC. Random and love hard! #TruthSeeker #TeamNaturalHair #TeamLocs #waterislife #futureRN #StudentNurse👩🏽\\u200d🎓👩🏽\\u200d⚕️ ✊🏾', url='https://t.co/dYs2SEl4Pb', entities={'url': {'urls': [{'url': 'https://t.co/dYs2SEl4Pb', 'expanded_url': 'http://askmeandilltellyou.com', 'display_url': 'askmeandilltellyou.com', 'indices': [0, 23]}]}, 'description': {'urls': []}}, protected=False, followers_count=1211, friends_count=1121, listed_count=12, created_at=datetime.datetime(2012, 5, 11, 14, 15, 46), favourites_count=11666, utc_offset=None, time_zone=None, geo_enabled=False, verified=False, statuses_count=5849, lang='en', contributors_enabled=False, is_translator=False, is_translation_enabled=False, profile_background_color='1A1B1F', profile_background_image_url='http://abs.twimg.com/images/themes/theme9/bg.gif', profile_background_image_url_https='https://abs.twimg.com/images/themes/theme9/bg.gif', profile_background_tile=False, profile_image_url='http://pbs.twimg.com/profile_images/1007620766119219200/dMoeLln7_normal.jpg', profile_image_url_https='https://pbs.twimg.com/profile_images/1007620766119219200/dMoeLln7_normal.jpg', profile_banner_url='https://pbs.twimg.com/profile_banners/577251879/1404879549', profile_link_color='2FC2EF', profile_sidebar_border_color='181A1E', profile_sidebar_fill_color='252429', profile_text_color='666666', profile_use_background_image=True, has_extended_profile=False, default_profile=False, default_profile_image=False, following=False, follow_request_sent=False, notifications=False, translator_type='none'), geo=None, coordinates=None, place=None, contributors=None, retweeted_status=Status(_api=<tweepy.api.API object at 0x111870b00>, _json={'created_at': 'Wed Jun 27 15:19:01 +0000 2018', 'id': 1011992303421001730, 'id_str': '1011992303421001730', 'text': 'Pipelines are not safe. \"Our rivers contaminated, we can’t fish anymore.\" Oil spill hits Bayelsa community:… https://t.co/JbLDcR9QBD', 'truncated': True, 'entities': {'hashtags': [], 'symbols': [], 'user_mentions': [], 'urls': [{'url': 'https://t.co/JbLDcR9QBD', 'expanded_url': 'https://twitter.com/i/web/status/1011992303421001730', 'display_url': 'twitter.com/i/web/status/1…', 'indices': [109, 132]}]}, 'metadata': {'iso_language_code': 'en', 'result_type': 'recent'}, 'source': '<a href=\"https://buffer.com\" rel=\"nofollow\">Buffer</a>', 'in_reply_to_status_id': None, 'in_reply_to_status_id_str': None, 'in_reply_to_user_id': None, 'in_reply_to_user_id_str': None, 'in_reply_to_screen_name': None, 'user': {'id': 15088481, 'id_str': '15088481', 'name': 'Mike Hudema', 'screen_name': 'MikeHudema', 'location': 'Edmonton, Alberta - Treaty 6', 'description': '#Greenpeace Canada #Climate and #Energy Campaigner focusing on #tarsands, #greenjobs & #solar. Time to #go100re. Loves #Alberta, brunch, and wine!', 'url': 'https://t.co/6b4y4BTwJL', 'entities': {'url': {'urls': [{'url': 'https://t.co/6b4y4BTwJL', 'expanded_url': 'http://www.greenpeace.ca/tarsands', 'display_url': 'greenpeace.ca/tarsands', 'indices': [0, 23]}]}, 'description': {'urls': []}}, 'protected': False, 'followers_count': 77307, 'friends_count': 45547, 'listed_count': 1778, 'created_at': 'Wed Jun 11 19:56:52 +0000 2008', 'favourites_count': 15719, 'utc_offset': None, 'time_zone': None, 'geo_enabled': True, 'verified': True, 'statuses_count': 25596, 'lang': 'en', 'contributors_enabled': False, 'is_translator': False, 'is_translation_enabled': False, 'profile_background_color': '0F0A02', 'profile_background_image_url': 'http://abs.twimg.com/images/themes/theme5/bg.gif', 'profile_background_image_url_https': 'https://abs.twimg.com/images/themes/theme5/bg.gif', 'profile_background_tile': False, 'profile_image_url': 'http://pbs.twimg.com/profile_images/895729261163810816/1qI8Mbzj_normal.jpg', 'profile_image_url_https': 'https://pbs.twimg.com/profile_images/895729261163810816/1qI8Mbzj_normal.jpg', 'profile_banner_url': 'https://pbs.twimg.com/profile_banners/15088481/1529087360', 'profile_link_color': '8A7302', 'profile_sidebar_border_color': 'BCB302', 'profile_sidebar_fill_color': '171106', 'profile_text_color': '473623', 'profile_use_background_image': True, 'has_extended_profile': True, 'default_profile': False, 'default_profile_image': False, 'following': False, 'follow_request_sent': False, 'notifications': False, 'translator_type': 'none'}, 'geo': None, 'coordinates': None, 'place': None, 'contributors': None, 'is_quote_status': False, 'retweet_count': 420, 'favorite_count': 371, 'favorited': False, 'retweeted': False, 'possibly_sensitive': False, 'lang': 'en'}, created_at=datetime.datetime(2018, 6, 27, 15, 19, 1), id=1011992303421001730, id_str='1011992303421001730', text='Pipelines are not safe. \"Our rivers contaminated, we can’t fish anymore.\" Oil spill hits Bayelsa community:… https://t.co/JbLDcR9QBD', truncated=True, entities={'hashtags': [], 'symbols': [], 'user_mentions': [], 'urls': [{'url': 'https://t.co/JbLDcR9QBD', 'expanded_url': 'https://twitter.com/i/web/status/1011992303421001730', 'display_url': 'twitter.com/i/web/status/1…', 'indices': [109, 132]}]}, metadata={'iso_language_code': 'en', 'result_type': 'recent'}, source='Buffer', source_url='https://buffer.com', in_reply_to_status_id=None, in_reply_to_status_id_str=None, in_reply_to_user_id=None, in_reply_to_user_id_str=None, in_reply_to_screen_name=None, author=User(_api=<tweepy.api.API object at 0x111870b00>, _json={'id': 15088481, 'id_str': '15088481', 'name': 'Mike Hudema', 'screen_name': 'MikeHudema', 'location': 'Edmonton, Alberta - Treaty 6', 'description': '#Greenpeace Canada #Climate and #Energy Campaigner focusing on #tarsands, #greenjobs & #solar. Time to #go100re. Loves #Alberta, brunch, and wine!', 'url': 'https://t.co/6b4y4BTwJL', 'entities': {'url': {'urls': [{'url': 'https://t.co/6b4y4BTwJL', 'expanded_url': 'http://www.greenpeace.ca/tarsands', 'display_url': 'greenpeace.ca/tarsands', 'indices': [0, 23]}]}, 'description': {'urls': []}}, 'protected': False, 'followers_count': 77307, 'friends_count': 45547, 'listed_count': 1778, 'created_at': 'Wed Jun 11 19:56:52 +0000 2008', 'favourites_count': 15719, 'utc_offset': None, 'time_zone': None, 'geo_enabled': True, 'verified': True, 'statuses_count': 25596, 'lang': 'en', 'contributors_enabled': False, 'is_translator': False, 'is_translation_enabled': False, 'profile_background_color': '0F0A02', 'profile_background_image_url': 'http://abs.twimg.com/images/themes/theme5/bg.gif', 'profile_background_image_url_https': 'https://abs.twimg.com/images/themes/theme5/bg.gif', 'profile_background_tile': False, 'profile_image_url': 'http://pbs.twimg.com/profile_images/895729261163810816/1qI8Mbzj_normal.jpg', 'profile_image_url_https': 'https://pbs.twimg.com/profile_images/895729261163810816/1qI8Mbzj_normal.jpg', 'profile_banner_url': 'https://pbs.twimg.com/profile_banners/15088481/1529087360', 'profile_link_color': '8A7302', 'profile_sidebar_border_color': 'BCB302', 'profile_sidebar_fill_color': '171106', 'profile_text_color': '473623', 'profile_use_background_image': True, 'has_extended_profile': True, 'default_profile': False, 'default_profile_image': False, 'following': False, 'follow_request_sent': False, 'notifications': False, 'translator_type': 'none'}, id=15088481, id_str='15088481', name='Mike Hudema', screen_name='MikeHudema', location='Edmonton, Alberta - Treaty 6', description='#Greenpeace Canada #Climate and #Energy Campaigner focusing on #tarsands, #greenjobs & #solar. Time to #go100re. Loves #Alberta, brunch, and wine!', url='https://t.co/6b4y4BTwJL', entities={'url': {'urls': [{'url': 'https://t.co/6b4y4BTwJL', 'expanded_url': 'http://www.greenpeace.ca/tarsands', 'display_url': 'greenpeace.ca/tarsands', 'indices': [0, 23]}]}, 'description': {'urls': []}}, protected=False, followers_count=77307, friends_count=45547, listed_count=1778, created_at=datetime.datetime(2008, 6, 11, 19, 56, 52), favourites_count=15719, utc_offset=None, time_zone=None, geo_enabled=True, verified=True, statuses_count=25596, lang='en', contributors_enabled=False, is_translator=False, is_translation_enabled=False, profile_background_color='0F0A02', profile_background_image_url='http://abs.twimg.com/images/themes/theme5/bg.gif', profile_background_image_url_https='https://abs.twimg.com/images/themes/theme5/bg.gif', profile_background_tile=False, profile_image_url='http://pbs.twimg.com/profile_images/895729261163810816/1qI8Mbzj_normal.jpg', profile_image_url_https='https://pbs.twimg.com/profile_images/895729261163810816/1qI8Mbzj_normal.jpg', profile_banner_url='https://pbs.twimg.com/profile_banners/15088481/1529087360', profile_link_color='8A7302', profile_sidebar_border_color='BCB302', profile_sidebar_fill_color='171106', profile_text_color='473623', profile_use_background_image=True, has_extended_profile=True, default_profile=False, default_profile_image=False, following=False, follow_request_sent=False, notifications=False, translator_type='none'), user=User(_api=<tweepy.api.API object at 0x111870b00>, _json={'id': 15088481, 'id_str': '15088481', 'name': 'Mike Hudema', 'screen_name': 'MikeHudema', 'location': 'Edmonton, Alberta - Treaty 6', 'description': '#Greenpeace Canada #Climate and #Energy Campaigner focusing on #tarsands, #greenjobs & #solar. Time to #go100re. Loves #Alberta, brunch, and wine!', 'url': 'https://t.co/6b4y4BTwJL', 'entities': {'url': {'urls': [{'url': 'https://t.co/6b4y4BTwJL', 'expanded_url': 'http://www.greenpeace.ca/tarsands', 'display_url': 'greenpeace.ca/tarsands', 'indices': [0, 23]}]}, 'description': {'urls': []}}, 'protected': False, 'followers_count': 77307, 'friends_count': 45547, 'listed_count': 1778, 'created_at': 'Wed Jun 11 19:56:52 +0000 2008', 'favourites_count': 15719, 'utc_offset': None, 'time_zone': None, 'geo_enabled': True, 'verified': True, 'statuses_count': 25596, 'lang': 'en', 'contributors_enabled': False, 'is_translator': False, 'is_translation_enabled': False, 'profile_background_color': '0F0A02', 'profile_background_image_url': 'http://abs.twimg.com/images/themes/theme5/bg.gif', 'profile_background_image_url_https': 'https://abs.twimg.com/images/themes/theme5/bg.gif', 'profile_background_tile': False, 'profile_image_url': 'http://pbs.twimg.com/profile_images/895729261163810816/1qI8Mbzj_normal.jpg', 'profile_image_url_https': 'https://pbs.twimg.com/profile_images/895729261163810816/1qI8Mbzj_normal.jpg', 'profile_banner_url': 'https://pbs.twimg.com/profile_banners/15088481/1529087360', 'profile_link_color': '8A7302', 'profile_sidebar_border_color': 'BCB302', 'profile_sidebar_fill_color': '171106', 'profile_text_color': '473623', 'profile_use_background_image': True, 'has_extended_profile': True, 'default_profile': False, 'default_profile_image': False, 'following': False, 'follow_request_sent': False, 'notifications': False, 'translator_type': 'none'}, id=15088481, id_str='15088481', name='Mike Hudema', screen_name='MikeHudema', location='Edmonton, Alberta - Treaty 6', description='#Greenpeace Canada #Climate and #Energy Campaigner focusing on #tarsands, #greenjobs & #solar. Time to #go100re. Loves #Alberta, brunch, and wine!', url='https://t.co/6b4y4BTwJL', entities={'url': {'urls': [{'url': 'https://t.co/6b4y4BTwJL', 'expanded_url': 'http://www.greenpeace.ca/tarsands', 'display_url': 'greenpeace.ca/tarsands', 'indices': [0, 23]}]}, 'description': {'urls': []}}, protected=False, followers_count=77307, friends_count=45547, listed_count=1778, created_at=datetime.datetime(2008, 6, 11, 19, 56, 52), favourites_count=15719, utc_offset=None, time_zone=None, geo_enabled=True, verified=True, statuses_count=25596, lang='en', contributors_enabled=False, is_translator=False, is_translation_enabled=False, profile_background_color='0F0A02', profile_background_image_url='http://abs.twimg.com/images/themes/theme5/bg.gif', profile_background_image_url_https='https://abs.twimg.com/images/themes/theme5/bg.gif', profile_background_tile=False, profile_image_url='http://pbs.twimg.com/profile_images/895729261163810816/1qI8Mbzj_normal.jpg', profile_image_url_https='https://pbs.twimg.com/profile_images/895729261163810816/1qI8Mbzj_normal.jpg', profile_banner_url='https://pbs.twimg.com/profile_banners/15088481/1529087360', profile_link_color='8A7302', profile_sidebar_border_color='BCB302', profile_sidebar_fill_color='171106', profile_text_color='473623', profile_use_background_image=True, has_extended_profile=True, default_profile=False, default_profile_image=False, following=False, follow_request_sent=False, notifications=False, translator_type='none'), geo=None, coordinates=None, place=None, contributors=None, is_quote_status=False, retweet_count=420, favorite_count=371, favorited=False, retweeted=False, possibly_sensitive=False, lang='en'), is_quote_status=False, retweet_count=420, favorite_count=0, favorited=False, retweeted=False, lang='en')"
      ]
     },
     "execution_count": 5,
     "metadata": {},
     "output_type": "execute_result"
    }
   ],
   "source": [
    "spills[0]"
   ]
  },
  {
   "cell_type": "code",
   "execution_count": 7,
   "metadata": {},
   "outputs": [],
   "source": [
    "df = pd.DataFrame([x._json for x in spills])[['text', 'created_at', 'user']]"
   ]
  },
  {
   "cell_type": "code",
   "execution_count": 8,
   "metadata": {},
   "outputs": [
    {
     "data": {
      "text/html": [
       "<div>\n",
       "<style scoped>\n",
       "    .dataframe tbody tr th:only-of-type {\n",
       "        vertical-align: middle;\n",
       "    }\n",
       "\n",
       "    .dataframe tbody tr th {\n",
       "        vertical-align: top;\n",
       "    }\n",
       "\n",
       "    .dataframe thead th {\n",
       "        text-align: right;\n",
       "    }\n",
       "</style>\n",
       "<table border=\"1\" class=\"dataframe\">\n",
       "  <thead>\n",
       "    <tr style=\"text-align: right;\">\n",
       "      <th></th>\n",
       "      <th>text</th>\n",
       "      <th>created_at</th>\n",
       "      <th>user</th>\n",
       "    </tr>\n",
       "  </thead>\n",
       "  <tbody>\n",
       "    <tr>\n",
       "      <th>0</th>\n",
       "      <td>RT @MikeHudema: Pipelines are not safe. \"Our r...</td>\n",
       "      <td>Fri Jun 29 01:46:57 +0000 2018</td>\n",
       "      <td>{'id': 577251879, 'id_str': '577251879', 'name...</td>\n",
       "    </tr>\n",
       "    <tr>\n",
       "      <th>1</th>\n",
       "      <td>RT @PhilSoubliere: Deepwater Horizon disaster ...</td>\n",
       "      <td>Fri Jun 29 01:46:12 +0000 2018</td>\n",
       "      <td>{'id': 23054053, 'id_str': '23054053', 'name':...</td>\n",
       "    </tr>\n",
       "    <tr>\n",
       "      <th>2</th>\n",
       "      <td>RT @Chevron_Toxico: La Corte Canadiense nos ob...</td>\n",
       "      <td>Fri Jun 29 01:45:39 +0000 2018</td>\n",
       "      <td>{'id': 1020715394, 'id_str': '1020715394', 'na...</td>\n",
       "    </tr>\n",
       "    <tr>\n",
       "      <th>3</th>\n",
       "      <td>Deepwater Horizon disaster altered building bl...</td>\n",
       "      <td>Fri Jun 29 01:39:57 +0000 2018</td>\n",
       "      <td>{'id': 3267811405, 'id_str': '3267811405', 'na...</td>\n",
       "    </tr>\n",
       "    <tr>\n",
       "      <th>4</th>\n",
       "      <td>RT @Earthjustice: “Trump is trying to wash his...</td>\n",
       "      <td>Fri Jun 29 01:38:11 +0000 2018</td>\n",
       "      <td>{'id': 2983308422, 'id_str': '2983308422', 'na...</td>\n",
       "    </tr>\n",
       "  </tbody>\n",
       "</table>\n",
       "</div>"
      ],
      "text/plain": [
       "                                                text  \\\n",
       "0  RT @MikeHudema: Pipelines are not safe. \"Our r...   \n",
       "1  RT @PhilSoubliere: Deepwater Horizon disaster ...   \n",
       "2  RT @Chevron_Toxico: La Corte Canadiense nos ob...   \n",
       "3  Deepwater Horizon disaster altered building bl...   \n",
       "4  RT @Earthjustice: “Trump is trying to wash his...   \n",
       "\n",
       "                       created_at  \\\n",
       "0  Fri Jun 29 01:46:57 +0000 2018   \n",
       "1  Fri Jun 29 01:46:12 +0000 2018   \n",
       "2  Fri Jun 29 01:45:39 +0000 2018   \n",
       "3  Fri Jun 29 01:39:57 +0000 2018   \n",
       "4  Fri Jun 29 01:38:11 +0000 2018   \n",
       "\n",
       "                                                user  \n",
       "0  {'id': 577251879, 'id_str': '577251879', 'name...  \n",
       "1  {'id': 23054053, 'id_str': '23054053', 'name':...  \n",
       "2  {'id': 1020715394, 'id_str': '1020715394', 'na...  \n",
       "3  {'id': 3267811405, 'id_str': '3267811405', 'na...  \n",
       "4  {'id': 2983308422, 'id_str': '2983308422', 'na...  "
      ]
     },
     "execution_count": 8,
     "metadata": {},
     "output_type": "execute_result"
    }
   ],
   "source": [
    "df.head()"
   ]
  },
  {
   "cell_type": "code",
   "execution_count": 12,
   "metadata": {},
   "outputs": [],
   "source": [
    "colonial = []\n",
    "#empty lists to populate\n",
    "for status in tweepy.Cursor(api.search, q='colonial pipeline').items(100):\n",
    "    colonial.append(status)"
   ]
  },
  {
   "cell_type": "code",
   "execution_count": 13,
   "metadata": {},
   "outputs": [],
   "source": [
    "cdf = pd.DataFrame([x._json for x in colonial])[['text', 'created_at', 'user']]"
   ]
  },
  {
   "cell_type": "code",
   "execution_count": 14,
   "metadata": {},
   "outputs": [
    {
     "data": {
      "text/html": [
       "<div>\n",
       "<style scoped>\n",
       "    .dataframe tbody tr th:only-of-type {\n",
       "        vertical-align: middle;\n",
       "    }\n",
       "\n",
       "    .dataframe tbody tr th {\n",
       "        vertical-align: top;\n",
       "    }\n",
       "\n",
       "    .dataframe thead th {\n",
       "        text-align: right;\n",
       "    }\n",
       "</style>\n",
       "<table border=\"1\" class=\"dataframe\">\n",
       "  <thead>\n",
       "    <tr style=\"text-align: right;\">\n",
       "      <th></th>\n",
       "      <th>text</th>\n",
       "      <th>created_at</th>\n",
       "      <th>user</th>\n",
       "    </tr>\n",
       "  </thead>\n",
       "  <tbody>\n",
       "    <tr>\n",
       "      <th>0</th>\n",
       "      <td>Colonial #Pipeline is allocating Cycle 38 ship...</td>\n",
       "      <td>Thu Jun 28 19:23:27 +0000 2018</td>\n",
       "      <td>{'id': 2291772175, 'id_str': '2291772175', 'na...</td>\n",
       "    </tr>\n",
       "    <tr>\n",
       "      <th>1</th>\n",
       "      <td>GENOCIDE AND SIX QUADRILLION DOLLAR DEBT OF ST...</td>\n",
       "      <td>Wed Jun 27 16:02:50 +0000 2018</td>\n",
       "      <td>{'id': 850938807675494400, 'id_str': '85093880...</td>\n",
       "    </tr>\n",
       "    <tr>\n",
       "      <th>2</th>\n",
       "      <td>Many leak detection systems fail. \\n\\nData sho...</td>\n",
       "      <td>Wed Jun 27 03:17:01 +0000 2018</td>\n",
       "      <td>{'id': 985695453508497408, 'id_str': '98569545...</td>\n",
       "    </tr>\n",
       "    <tr>\n",
       "      <th>3</th>\n",
       "      <td>Many leak detection systems fail. \\n\\nData sho...</td>\n",
       "      <td>Mon Jun 25 14:27:01 +0000 2018</td>\n",
       "      <td>{'id': 985695453508497408, 'id_str': '98569545...</td>\n",
       "    </tr>\n",
       "    <tr>\n",
       "      <th>4</th>\n",
       "      <td>RT @HarshaWalia: Canada must end #FamilySepara...</td>\n",
       "      <td>Sat Jun 23 15:02:32 +0000 2018</td>\n",
       "      <td>{'id': 66708777, 'id_str': '66708777', 'name':...</td>\n",
       "    </tr>\n",
       "  </tbody>\n",
       "</table>\n",
       "</div>"
      ],
      "text/plain": [
       "                                                text  \\\n",
       "0  Colonial #Pipeline is allocating Cycle 38 ship...   \n",
       "1  GENOCIDE AND SIX QUADRILLION DOLLAR DEBT OF ST...   \n",
       "2  Many leak detection systems fail. \\n\\nData sho...   \n",
       "3  Many leak detection systems fail. \\n\\nData sho...   \n",
       "4  RT @HarshaWalia: Canada must end #FamilySepara...   \n",
       "\n",
       "                       created_at  \\\n",
       "0  Thu Jun 28 19:23:27 +0000 2018   \n",
       "1  Wed Jun 27 16:02:50 +0000 2018   \n",
       "2  Wed Jun 27 03:17:01 +0000 2018   \n",
       "3  Mon Jun 25 14:27:01 +0000 2018   \n",
       "4  Sat Jun 23 15:02:32 +0000 2018   \n",
       "\n",
       "                                                user  \n",
       "0  {'id': 2291772175, 'id_str': '2291772175', 'na...  \n",
       "1  {'id': 850938807675494400, 'id_str': '85093880...  \n",
       "2  {'id': 985695453508497408, 'id_str': '98569545...  \n",
       "3  {'id': 985695453508497408, 'id_str': '98569545...  \n",
       "4  {'id': 66708777, 'id_str': '66708777', 'name':...  "
      ]
     },
     "execution_count": 14,
     "metadata": {},
     "output_type": "execute_result"
    }
   ],
   "source": [
    "cdf.head()"
   ]
  },
  {
   "cell_type": "code",
   "execution_count": 15,
   "metadata": {},
   "outputs": [],
   "source": [
    "mask = cdf.text.map(lambda x: True if 'leak' in x else False)"
   ]
  },
  {
   "cell_type": "code",
   "execution_count": 16,
   "metadata": {},
   "outputs": [
    {
     "data": {
      "text/html": [
       "<div>\n",
       "<style scoped>\n",
       "    .dataframe tbody tr th:only-of-type {\n",
       "        vertical-align: middle;\n",
       "    }\n",
       "\n",
       "    .dataframe tbody tr th {\n",
       "        vertical-align: top;\n",
       "    }\n",
       "\n",
       "    .dataframe thead th {\n",
       "        text-align: right;\n",
       "    }\n",
       "</style>\n",
       "<table border=\"1\" class=\"dataframe\">\n",
       "  <thead>\n",
       "    <tr style=\"text-align: right;\">\n",
       "      <th></th>\n",
       "      <th>text</th>\n",
       "      <th>created_at</th>\n",
       "      <th>user</th>\n",
       "    </tr>\n",
       "  </thead>\n",
       "  <tbody>\n",
       "    <tr>\n",
       "      <th>2</th>\n",
       "      <td>Many leak detection systems fail. \\n\\nData sho...</td>\n",
       "      <td>Wed Jun 27 03:17:01 +0000 2018</td>\n",
       "      <td>{'id': 985695453508497408, 'id_str': '98569545...</td>\n",
       "    </tr>\n",
       "    <tr>\n",
       "      <th>3</th>\n",
       "      <td>Many leak detection systems fail. \\n\\nData sho...</td>\n",
       "      <td>Mon Jun 25 14:27:01 +0000 2018</td>\n",
       "      <td>{'id': 985695453508497408, 'id_str': '98569545...</td>\n",
       "    </tr>\n",
       "    <tr>\n",
       "      <th>65</th>\n",
       "      <td>Many leak detection systems fail. \\n\\nData sho...</td>\n",
       "      <td>Tue Jun 19 23:56:02 +0000 2018</td>\n",
       "      <td>{'id': 985695453508497408, 'id_str': '98569545...</td>\n",
       "    </tr>\n",
       "  </tbody>\n",
       "</table>\n",
       "</div>"
      ],
      "text/plain": [
       "                                                 text  \\\n",
       "2   Many leak detection systems fail. \\n\\nData sho...   \n",
       "3   Many leak detection systems fail. \\n\\nData sho...   \n",
       "65  Many leak detection systems fail. \\n\\nData sho...   \n",
       "\n",
       "                        created_at  \\\n",
       "2   Wed Jun 27 03:17:01 +0000 2018   \n",
       "3   Mon Jun 25 14:27:01 +0000 2018   \n",
       "65  Tue Jun 19 23:56:02 +0000 2018   \n",
       "\n",
       "                                                 user  \n",
       "2   {'id': 985695453508497408, 'id_str': '98569545...  \n",
       "3   {'id': 985695453508497408, 'id_str': '98569545...  \n",
       "65  {'id': 985695453508497408, 'id_str': '98569545...  "
      ]
     },
     "execution_count": 16,
     "metadata": {},
     "output_type": "execute_result"
    }
   ],
   "source": [
    "cdf[mask]"
   ]
  },
  {
   "cell_type": "code",
   "execution_count": null,
   "metadata": {},
   "outputs": [],
   "source": []
  }
 ],
 "metadata": {
  "kernelspec": {
   "display_name": "Python 3",
   "language": "python",
   "name": "python3"
  },
  "language_info": {
   "codemirror_mode": {
    "name": "ipython",
    "version": 3
   },
   "file_extension": ".py",
   "mimetype": "text/x-python",
   "name": "python",
   "nbconvert_exporter": "python",
   "pygments_lexer": "ipython3",
   "version": "3.6.4"
  }
 },
 "nbformat": 4,
 "nbformat_minor": 2
}
